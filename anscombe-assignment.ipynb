{
 "cells": [
  {
   "cell_type": "markdown",
   "metadata": {},
   "source": [
    "**Problem Statement:**\n",
    "\n",
    "This assignment analyses the Anscombe's Quartet dataset using Python code and libraries - a jupyter notebook was created for the analysis which is included in a github repository named anscombe-assignment."
   ]
  },
  {
   "cell_type": "markdown",
   "metadata": {},
   "source": [
    "**Introduction:**\n",
    "\n",
    "Francis Anscombe studied at Trinity College in Cambridge University with his field of study being Statistics. After serving in the second world war he returned to Cambridge as a lecturer and later moved to Princeton University in 1956. He was founder of the Statistics Department in Yale University.\n",
    "\n",
    "In 1973 Francis Anscombe created the Anscombe's Quartet dataset to demonstrate that statistical analysis of data by itself is not enough, visual analysis was also required.\n",
    "\n",
    "The Anscombe's Quartet is made up of four datasets each consisting of 11 x values and 11 y values. In the first three datasets the 11 x values are all the same.\n",
    "\n",
    "It is not known how Francis Anscombe created the data for the Quartet dataset."
   ]
  },
  {
   "cell_type": "markdown",
   "metadata": {},
   "source": [
    "**Import libraries:**"
   ]
  },
  {
   "cell_type": "code",
   "execution_count": 2,
   "metadata": {
    "collapsed": true
   },
   "outputs": [],
   "source": [
    "import seaborn as sns\n",
    "import pandas as pd\n",
    "import matplotlib.pyplot as plt"
   ]
  },
  {
   "cell_type": "markdown",
   "metadata": {},
   "source": [
    "**Load Datasets:**"
   ]
  },
  {
   "cell_type": "code",
   "execution_count": null,
   "metadata": {
    "collapsed": true
   },
   "outputs": [],
   "source": []
  },
  {
   "cell_type": "markdown",
   "metadata": {},
   "source": [
    "**Descriptive Statistics:**"
   ]
  },
  {
   "cell_type": "code",
   "execution_count": null,
   "metadata": {
    "collapsed": true
   },
   "outputs": [],
   "source": []
  }
 ],
 "metadata": {
  "kernelspec": {
   "display_name": "Python 3",
   "language": "python",
   "name": "python3"
  },
  "language_info": {
   "codemirror_mode": {
    "name": "ipython",
    "version": 3
   },
   "file_extension": ".py",
   "mimetype": "text/x-python",
   "name": "python",
   "nbconvert_exporter": "python",
   "pygments_lexer": "ipython3",
   "version": "3.6.3"
  }
 },
 "nbformat": 4,
 "nbformat_minor": 2
}
